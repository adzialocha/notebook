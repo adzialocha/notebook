{
 "cells": [
  {
   "cell_type": "code",
   "execution_count": 1,
   "metadata": {},
   "outputs": [],
   "source": [
    "import bisect\n",
    "\n",
    "import pretty_midi as midi"
   ]
  },
  {
   "cell_type": "code",
   "execution_count": 2,
   "metadata": {},
   "outputs": [
    {
     "name": "stdout",
     "output_type": "stream",
     "text": [
      "Loaded \"./files/midi/piano.mid\".\n"
     ]
    }
   ],
   "source": [
    "# File handling\n",
    "FILE_PATH = './files/midi/piano.mid'\n",
    "OUT_FILE_PATH = './files/midi/piano-separated.mid'\n",
    "\n",
    "# Defaults for every part and note\n",
    "DEFAULT_INSTRUMENT = 'Acoustic Grand Piano'\n",
    "\n",
    "# Read MIDI file and clean up\n",
    "score = midi.PrettyMIDI(FILE_PATH)\n",
    "score.remove_invalid_notes()\n",
    "print('Loaded \"{}\".'.format(FILE_PATH))"
   ]
  },
  {
   "cell_type": "code",
   "execution_count": 3,
   "metadata": {},
   "outputs": [],
   "source": [
    "class SortableNote(midi.Note):\n",
    "    \"\"\"Introduce a variant of the Note class to make it sortable.\"\"\"\n",
    "    \n",
    "    def __init__(self, velocity, pitch, start, end):\n",
    "        super().__init__(velocity, pitch, start, end)\n",
    "\n",
    "    def __lt__(self, other):\n",
    "        return self.start < other.start"
   ]
  },
  {
   "cell_type": "code",
   "execution_count": 4,
   "metadata": {},
   "outputs": [
    {
     "name": "stdout",
     "output_type": "stream",
     "text": [
      "Found 4767 notes in whole score.\n",
      "Created 864 parts. Moved notes 25615 times.\n"
     ]
    }
   ],
   "source": [
    "# Get all notes and sort them by start time\n",
    "notes = []\n",
    "for instrument in score.instruments:\n",
    "    for note in instrument.notes:\n",
    "        # Convert Note to SortableNote\n",
    "        notes.append(SortableNote(note.velocity,\n",
    "                                  note.pitch,\n",
    "                                  note.start,\n",
    "                                  note.end))\n",
    "notes.sort()\n",
    "\n",
    "print('Found {} notes in whole score.'.format(len(notes)))\n",
    "\n",
    "# Separating all notes in parts by checking if they overlap\n",
    "parts = [notes]\n",
    "part_index_offset = 0\n",
    "movement_counter = 0\n",
    "\n",
    "while part_index_offset < len(parts):\n",
    "    part_notes = parts[part_index_offset]\n",
    "    note_index = 0\n",
    "\n",
    "    while len(part_notes) > 0 and note_index < len(part_notes):\n",
    "        next_note_index = note_index + 1\n",
    "        queue = []\n",
    "\n",
    "        while (next_note_index < len(part_notes) - 1 and\n",
    "               part_notes[next_note_index].start <= part_notes[note_index].end):\n",
    "            queue.append(next_note_index)\n",
    "            next_note_index += 1\n",
    "\n",
    "        # Move notes which have been stored in a queue\n",
    "        for index, move_note_index in enumerate(queue):\n",
    "            part_index = part_index_offset + index + 1\n",
    "            # Create part when it does not exist yet\n",
    "            if len(parts) - 1 < part_index:\n",
    "                parts.append([])\n",
    "                \n",
    "            # Move note to part\n",
    "            note = part_notes[move_note_index]\n",
    "            parts[part_index].append(note)\n",
    "            movement_counter += 1\n",
    "            \n",
    "        # Remove notes from previous part\n",
    "        if len(queue) == 1:\n",
    "            del part_notes[queue[0]]\n",
    "        elif len(queue) > 1:\n",
    "            del part_notes[queue[0]:queue[-1]]\n",
    "\n",
    "        # Start from top when we deleted something\n",
    "        if len(queue) > 0:\n",
    "            note_index = 0\n",
    "        else:\n",
    "            # .. otherwise move on to next note\n",
    "            note_index += 1\n",
    "\n",
    "    part_index_offset += 1\n",
    "\n",
    "print('Created {} parts. Moved notes {} times.'.format(len(parts),\n",
    "                                                       movement_counter))"
   ]
  },
  {
   "cell_type": "code",
   "execution_count": 5,
   "metadata": {},
   "outputs": [
    {
     "name": "stdout",
     "output_type": "stream",
     "text": [
      "Merging parts ..\n",
      "Done! Moved notes 195106 times for merging.\n"
     ]
    }
   ],
   "source": [
    "# Merge parts when possible\n",
    "print('Merging parts ..')\n",
    "merged_counter = 0\n",
    "\n",
    "for index, part in enumerate(reversed(parts)):\n",
    "    part_index = len(parts) - index - 1\n",
    "    queue = []\n",
    "    \n",
    "    for note_index, note in enumerate(part):\n",
    "        done = False\n",
    "        other_part_index = part_index - 1\n",
    "\n",
    "        while not done:\n",
    "            if other_part_index < 0:\n",
    "                break\n",
    "            \n",
    "            other_note_index = -1\n",
    "            found_free_space = True\n",
    "\n",
    "            while True:\n",
    "                other_note_index += 1\n",
    "                \n",
    "                # We reached the end .. nothing found!\n",
    "                if other_note_index > len(parts[other_part_index]) - 1:\n",
    "                    found_free_space = False\n",
    "                    break\n",
    "\n",
    "                other_note = parts[other_part_index][other_note_index]\n",
    "\n",
    "                # Is there any overlapping notes?\n",
    "                if not (note.end <= other_note.start or note.start >= other_note.end):\n",
    "                    found_free_space = False\n",
    "                    break\n",
    "\n",
    "                # Stop here since there is nothing more coming.\n",
    "                if other_note.start > note.end:\n",
    "                     break\n",
    "\n",
    "            if found_free_space:\n",
    "                bisect.insort_left(parts[other_part_index], note)\n",
    "                queue.append(note_index)\n",
    "                merged_counter += 1\n",
    "                done = True\n",
    "            else:\n",
    "                other_part_index -= 1\n",
    "            \n",
    "    # Delete moved notes from old part\n",
    "    for index in sorted(queue, reverse=True):\n",
    "        del part[index]\n",
    "        \n",
    "print('Done! Moved notes {} times for merging.'.format(merged_counter))"
   ]
  },
  {
   "cell_type": "code",
   "execution_count": 6,
   "metadata": {},
   "outputs": [
    {
     "name": "stdout",
     "output_type": "stream",
     "text": [
      "Cleaned up 816 empty parts after merging. Now 48 parts.\n"
     ]
    }
   ],
   "source": [
    "# Remove empty parts\n",
    "remove_parts_queue = []\n",
    "for part_index, part in enumerate(parts):\n",
    "    if len(part) == 0:\n",
    "        remove_parts_queue.append(part_index)\n",
    "        \n",
    "for index in sorted(remove_parts_queue, reverse=True):\n",
    "    del parts[index]\n",
    "    \n",
    "print('Cleaned up {} empty parts after merging. Now {} parts.'.format(\n",
    "    len(remove_parts_queue),\n",
    "    len(parts)))"
   ]
  },
  {
   "cell_type": "code",
   "execution_count": 7,
   "metadata": {},
   "outputs": [
    {
     "name": "stdout",
     "output_type": "stream",
     "text": [
      "Part #1 with 925 notes.\n",
      "Part #2 with 920 notes.\n",
      "Part #3 with 799 notes.\n",
      "Part #4 with 786 notes.\n",
      "Part #5 with 716 notes.\n",
      "Part #6 with 605 notes.\n",
      "Part #7 with 429 notes.\n",
      "Part #8 with 305 notes.\n",
      "Part #9 with 223 notes.\n",
      "Part #10 with 151 notes.\n",
      "Part #11 with 123 notes.\n",
      "Part #12 with 88 notes.\n",
      "Part #13 with 74 notes.\n",
      "Part #14 with 57 notes.\n",
      "Part #15 with 48 notes.\n",
      "Part #16 with 43 notes.\n",
      "Part #17 with 41 notes.\n",
      "Part #18 with 39 notes.\n",
      "Part #19 with 32 notes.\n",
      "Part #20 with 32 notes.\n",
      "Part #21 with 30 notes.\n",
      "Part #22 with 25 notes.\n",
      "Part #23 with 21 notes.\n",
      "Part #24 with 18 notes.\n",
      "Part #25 with 17 notes.\n",
      "Part #26 with 14 notes.\n",
      "Part #27 with 13 notes.\n",
      "Part #28 with 11 notes.\n",
      "Part #29 with 10 notes.\n",
      "Part #30 with 9 notes.\n",
      "Part #31 with 8 notes.\n",
      "Part #32 with 8 notes.\n",
      "Part #33 with 8 notes.\n",
      "Part #34 with 8 notes.\n",
      "Part #35 with 8 notes.\n",
      "Part #36 with 8 notes.\n",
      "Part #37 with 5 notes.\n",
      "Part #38 with 5 notes.\n",
      "Part #39 with 4 notes.\n",
      "Part #40 with 4 notes.\n",
      "Part #41 with 4 notes.\n",
      "Part #42 with 4 notes.\n",
      "Part #43 with 2 notes.\n",
      "Part #44 with 2 notes.\n",
      "Part #45 with 2 notes.\n",
      "Part #46 with 2 notes.\n",
      "Part #47 with 2 notes.\n",
      "Part #48 with 1 notes.\n"
     ]
    }
   ],
   "source": [
    "# Create a new MIDI file\n",
    "new_score = midi.PrettyMIDI()\n",
    "\n",
    "# Copy data from old score\n",
    "new_score.time_signature_changes = score.time_signature_changes\n",
    "new_score.key_signature_changes = score.key_signature_changes\n",
    "\n",
    "# Create as many parts as we need to keep all voices separate\n",
    "for instrument_index in range(0, len(parts)):\n",
    "    program = midi.instrument_name_to_program(DEFAULT_INSTRUMENT)\n",
    "    new_instrument = midi.Instrument(program=program)\n",
    "    new_score.instruments.append(new_instrument)\n",
    "    \n",
    "# Assign notes to different parts\n",
    "for part_index, part in enumerate(parts):\n",
    "    for note in part:\n",
    "        new_score.instruments[part_index].notes.append(note)\n",
    "    print('Part #{} with {} notes.'.format(part_index + 1, len(part)))"
   ]
  },
  {
   "cell_type": "code",
   "execution_count": 8,
   "metadata": {},
   "outputs": [],
   "source": [
    "# Save result\n",
    "new_score.write(OUT_FILE_PATH)"
   ]
  }
 ],
 "metadata": {
  "kernelspec": {
   "display_name": "Python 3",
   "language": "python",
   "name": "python3"
  },
  "language_info": {
   "codemirror_mode": {
    "name": "ipython",
    "version": 3
   },
   "file_extension": ".py",
   "mimetype": "text/x-python",
   "name": "python",
   "nbconvert_exporter": "python",
   "pygments_lexer": "ipython3",
   "version": "3.6.5"
  }
 },
 "nbformat": 4,
 "nbformat_minor": 2
}
