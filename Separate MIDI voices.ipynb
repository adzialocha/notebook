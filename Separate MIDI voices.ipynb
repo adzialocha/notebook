{
 "cells": [
  {
   "cell_type": "code",
   "execution_count": 1,
   "metadata": {},
   "outputs": [],
   "source": [
    "import pretty_midi as midi"
   ]
  },
  {
   "cell_type": "code",
   "execution_count": 26,
   "metadata": {},
   "outputs": [
    {
     "name": "stdout",
     "output_type": "stream",
     "text": [
      "Loaded \"./files/midi/piano.mid\".\n"
     ]
    }
   ],
   "source": [
    "# Configurations\n",
    "FILE_PATH = './files/midi/piano.mid'\n",
    "OUT_FILE_PATH = './files/midi/piano-separated.mid'\n",
    "DEFAULT_INSTRUMENT = 'Acoustic Grand Piano'\n",
    "\n",
    "# Read MIDi file and clean up\n",
    "score = midi.PrettyMIDI(FILE_PATH)\n",
    "score.remove_invalid_notes()\n",
    "print('Loaded \"{}\".'.format(FILE_PATH))"
   ]
  },
  {
   "cell_type": "code",
   "execution_count": 27,
   "metadata": {},
   "outputs": [
    {
     "name": "stdout",
     "output_type": "stream",
     "text": [
      "Found 2800 distinguishable start times for 4767 notes. Largest chord has 7 notes.\n"
     ]
    }
   ],
   "source": [
    "# Group all notes by start time\n",
    "note_by_tick = {}\n",
    "note_counter = 0\n",
    "max_group_size = 0\n",
    "\n",
    "for instrument in score.instruments:\n",
    "    for note in instrument.notes:\n",
    "        tick = score.time_to_tick(note.start)\n",
    "        if not tick in note_by_tick:\n",
    "            note_by_tick[tick] = []\n",
    "        note_by_tick[tick].append(note)\n",
    "        max_group_size = max(max_group_size, len(note_by_tick[tick]))\n",
    "        note_counter += 1\n",
    "        \n",
    "print('Found {} distinguishable start times for {} notes. '\n",
    "      'Largest chord has {} notes.'.format(len(note_by_tick),\n",
    "                                           note_counter,\n",
    "                                           max_group_size))"
   ]
  },
  {
   "cell_type": "code",
   "execution_count": 28,
   "metadata": {},
   "outputs": [
    {
     "name": "stdout",
     "output_type": "stream",
     "text": [
      "2800 notes in part 1.\n",
      "1169 notes in part 2.\n",
      "504 notes in part 3.\n",
      "213 notes in part 4.\n",
      "73 notes in part 5.\n",
      "7 notes in part 6.\n",
      "1 notes in part 7.\n"
     ]
    }
   ],
   "source": [
    "# Create a new MIDI file\n",
    "new_score = midi.PrettyMIDI()\n",
    "\n",
    "# Copy data from old score\n",
    "new_score.time_signature_changes = score.time_signature_changes\n",
    "new_score.key_signature_changes = score.key_signature_changes\n",
    "\n",
    "# Create as many parts as we need to keep all voices separate\n",
    "for instrument_index in range(0, max_group_size):\n",
    "    program = midi.instrument_name_to_program(DEFAULT_INSTRUMENT)\n",
    "    new_instrument = midi.Instrument(program=program)\n",
    "    new_score.instruments.append(new_instrument)\n",
    "    \n",
    "# Assign notes to different parts\n",
    "for notes in note_by_tick.values():\n",
    "    for instrument_index, note in enumerate(notes):\n",
    "        new_score.instruments[instrument_index].notes.append(note)\n",
    "        \n",
    "for index, instrument in enumerate(new_score.instruments):\n",
    "    print('{} notes in part {}.'.format(len(instrument.notes), index + 1))"
   ]
  },
  {
   "cell_type": "code",
   "execution_count": 29,
   "metadata": {},
   "outputs": [],
   "source": [
    "# Save result\n",
    "new_score.write(OUT_FILE_PATH)"
   ]
  }
 ],
 "metadata": {
  "kernelspec": {
   "display_name": "Python 3",
   "language": "python",
   "name": "python3"
  },
  "language_info": {
   "codemirror_mode": {
    "name": "ipython",
    "version": 3
   },
   "file_extension": ".py",
   "mimetype": "text/x-python",
   "name": "python",
   "nbconvert_exporter": "python",
   "pygments_lexer": "ipython3",
   "version": "3.6.5"
  }
 },
 "nbformat": 4,
 "nbformat_minor": 2
}
