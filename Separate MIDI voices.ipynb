{
 "cells": [
  {
   "cell_type": "code",
   "execution_count": 1,
   "metadata": {},
   "outputs": [],
   "source": [
    "import music21 as mc"
   ]
  },
  {
   "cell_type": "code",
   "execution_count": 2,
   "metadata": {},
   "outputs": [],
   "source": [
    "# Input file\n",
    "PATH_IN = './files/midi/piano.mid'\n",
    "\n",
    "# Use these parameters for every part of the score\n",
    "DEFAULT_TIME_SIGNATURE = '4/4'\n",
    "DEFAULT_INSTRUMENT = 'piano'\n",
    "DEFAULT_CLEF = 'treble'"
   ]
  },
  {
   "cell_type": "code",
   "execution_count": 3,
   "metadata": {},
   "outputs": [
    {
     "name": "stdout",
     "output_type": "stream",
     "text": [
      "Import file at \"./files/midi/piano.mid\" ..\n"
     ]
    }
   ],
   "source": [
    "# Import MIDI file\n",
    "print('Import file at \"{}\" ..'.format(PATH_IN))\n",
    "score = mc.converter.parse(PATH_IN).flat.chordify()"
   ]
  },
  {
   "cell_type": "code",
   "execution_count": 6,
   "metadata": {},
   "outputs": [],
   "source": [
    "def generate_note_from_pitch(old_pitch):\n",
    "    \"\"\"Take a pitch object and generate a new note from it.\"\"\"\n",
    "\n",
    "    # Choose the most commonly used enharmonic spelling\n",
    "    new_pitch = old_pitch.simplifyEnharmonic(mostCommon=True)\n",
    "    \n",
    "    new_note = mc.note.Note(name=new_pitch.name,\n",
    "                            octave=new_pitch.octave)\n",
    " \n",
    "    return new_note\n",
    "\n",
    "\n",
    "def create_default_part():\n",
    "    \"\"\"Creates a default part.\"\"\"\n",
    "    \n",
    "    part = mc.stream.Part()\n",
    "\n",
    "    # Set default instrument, time signature and clef\n",
    "    part.insert(0, mc.instrument.fromString(DEFAULT_INSTRUMENT))\n",
    "    part.insert(0, mc.meter.TimeSignature(DEFAULT_TIME_SIGNATURE))\n",
    "    part.insert(0, mc.clef.clefFromString(DEFAULT_CLEF))\n",
    "    \n",
    "    return part\n",
    "\n",
    "\n",
    "def add_to_score(score, element, part_index, quarter_length, offset):\n",
    "    \"\"\"Add notes to part, create a new part when it does not exist yet.\"\"\"\n",
    "    \n",
    "    element.quarterLength = quarter_length\n",
    "    element.offset = offset\n",
    "\n",
    "    if len(score) - 1 < part_index:\n",
    "        part = create_default_part()\n",
    "        score.append(part)\n",
    "    else:\n",
    "        part = score[part_index]\n",
    "\n",
    "    part.append(element)"
   ]
  },
  {
   "cell_type": "code",
   "execution_count": 9,
   "metadata": {},
   "outputs": [
    {
     "name": "stdout",
     "output_type": "stream",
     "text": [
      "Convert score with 2852 notes.\n",
      "Created 13 parts.\n",
      "Finalize score ..\n",
      "Done!\n"
     ]
    }
   ],
   "source": [
    "# Prepare temporary score\n",
    "new_score = mc.stream.Score()\n",
    "\n",
    "# Convert all parts of score to new score\n",
    "print('Convert score with {} notes.'.format(len(score.notes)))\n",
    "\n",
    "# Convert notes and rests\n",
    "for note in score.notes:\n",
    "    for part_index, pitch in enumerate(note.pitches):\n",
    "        new_note = generate_note_from_pitch(pitch)\n",
    "        add_to_score(new_score,\n",
    "                     new_note,\n",
    "                     part_index,\n",
    "                     note.quarterLength,\n",
    "                     note.offset)\n",
    "        \n",
    "print('Created {} parts.'.format(len(new_score)))\n",
    "\n",
    "print('Finalize score ..')\n",
    "new_score.makeNotation(inPlace=True)\n",
    "print('Done!')"
   ]
  }
 ],
 "metadata": {
  "kernelspec": {
   "display_name": "Python 3",
   "language": "python",
   "name": "python3"
  },
  "language_info": {
   "codemirror_mode": {
    "name": "ipython",
    "version": 3
   },
   "file_extension": ".py",
   "mimetype": "text/x-python",
   "name": "python",
   "nbconvert_exporter": "python",
   "pygments_lexer": "ipython3",
   "version": "3.6.5"
  }
 },
 "nbformat": 4,
 "nbformat_minor": 2
}
