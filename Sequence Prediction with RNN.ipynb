{
 "cells": [
  {
   "cell_type": "code",
   "execution_count": 1,
   "metadata": {},
   "outputs": [
    {
     "name": "stderr",
     "output_type": "stream",
     "text": [
      "Using TensorFlow backend.\n"
     ]
    }
   ],
   "source": [
    "import random\n",
    "import numpy as np\n",
    "import keras.utils"
   ]
  },
  {
   "cell_type": "markdown",
   "metadata": {},
   "source": [
    "We generate a sequence in the following data format:\n",
    "* *x* and *y* describing a position in a grid of `100 x 100`\n",
    "* *c* describing a control status with 3 possible states (0 = starting, 1 = holding, 2 = pausing)\n",
    "\n",
    "State transitions follow this diagram:\n",
    "\n",
    "```\n",
    "+-+     +-+     +-+\n",
    "|0| --> |1| --> |2|\n",
    "+++  ^  +++  ^  +++\n",
    " ^   |   |   |   |\n",
    " |   |   |   |   |\n",
    " +---+---+   +---+\n",
    " |               |\n",
    " |               |\n",
    " +---------------+\n",
    "```\n",
    "\n",
    "This results in `100 x 100 x 3 = 30.000` possible one-hot encoded values ranging from 1 - 30.000."
   ]
  },
  {
   "cell_type": "code",
   "execution_count": 30,
   "metadata": {},
   "outputs": [],
   "source": [
    "STATES_COUNT = 3\n",
    "\n",
    "STATE_STARTING = 0\n",
    "STATE_HOLDING = 1\n",
    "STATE_PAUSING = 2\n",
    "\n",
    "DEFAULT_POSITION = [0, 0]\n",
    "\n",
    "\n",
    "def random_position(grid_size):\n",
    "    return [random.randint(0, grid_size - 1) for _ in range(2)]\n",
    "\n",
    "\n",
    "def flip_position(pos):\n",
    "    return [pos[1], pos[0]]\n",
    "    \n",
    "\n",
    "def next_state(previous_state):\n",
    "    if previous_state == STATE_STARTING:\n",
    "        next_state = STATE_HOLDING\n",
    "    elif previous_state == STATE_HOLDING:\n",
    "        next_state = random.choice([\n",
    "            STATE_STARTING,\n",
    "            STATE_HOLDING,\n",
    "            STATE_PAUSING\n",
    "        ])\n",
    "    elif previous_state == STATE_PAUSING:\n",
    "        next_state = random.choice([\n",
    "            STATE_STARTING,\n",
    "            STATE_PAUSING\n",
    "        ])\n",
    "    else:\n",
    "        next_state = random.choice([\n",
    "            STATE_STARTING,\n",
    "            STATE_PAUSING\n",
    "        ])\n",
    "    return next_state\n",
    "    \n",
    "\n",
    "def generate_sequence(grid_size, seq_len):\n",
    "    sequence = []\n",
    "    current_state = None\n",
    "    current_position = DEFAULT_POSITION\n",
    "    for _ in range(seq_len):\n",
    "        current_state = next_state(current_state)\n",
    "        if current_state == STATE_STARTING:\n",
    "            current_position = random_position(grid_size)\n",
    "        elif current_state == STATE_PAUSING:\n",
    "            current_position = DEFAULT_POSITION\n",
    "        feature_vector = np.concatenate([current_position, [current_state]])\n",
    "        sequence.append(feature_vector)\n",
    "    return sequence\n",
    "\n",
    "\n",
    "def generate_alternative_sequence(seq, grid_size):\n",
    "    sequence = generate_sequence(grid_size, len(seq))\n",
    "    for i in range(len(seq)):\n",
    "        if sequence[i][2] == STATE_STARTING:\n",
    "            # \"react\" to other sequence by flipping it\n",
    "            flipped = flip_position([seq[i][0], seq[i][1]])\n",
    "            # overwrite position of new sequence\n",
    "            sequence[i][0] = flipped[0]\n",
    "            sequence[i][1] = flipped[1]\n",
    "    return sequence\n",
    "    \n",
    "\n",
    "def encode_sequence_indexes(sequence, grid_size):\n",
    "    encoded = []\n",
    "    m = np.zeros((grid_size, grid_size, STATES_COUNT))\n",
    "    for vector in sequence:\n",
    "        index = np.ravel_multi_index(vector, m.shape) + 1\n",
    "        encoded.append(index)\n",
    "    return encoded\n",
    "\n",
    "\n",
    "def generate_dataset(grid_size, seq_len, n_samples):\n",
    "    src_data, target_pad_data, target_data = [], [], []\n",
    "    # all x/y positions in grid * state variants + 1 start symbol\n",
    "    num_classes = (grid_size * grid_size * STATES_COUNT) + 1\n",
    "    for _ in range(n_samples):\n",
    "        # generate source sequence\n",
    "        src = generate_sequence(grid_size, seq_len)\n",
    "        src_indexed = encode_sequence_indexes(src, grid_size)\n",
    "        src_encoded = keras.utils.to_categorical(\n",
    "                                                src_indexed,\n",
    "                                                num_classes=num_classes)\n",
    "        # generate target sequence\n",
    "        target = generate_alternative_sequence(src, grid_size)\n",
    "        target_indexed = encode_sequence_indexes(target, grid_size)\n",
    "        target_encoded = keras.utils.to_categorical(\n",
    "                                                target_indexed,\n",
    "                                                num_classes=num_classes)\n",
    "        # generated target input sequence\n",
    "        target_pad = target[:-1]\n",
    "        target_pad_indexed = encode_sequence_indexes(target_pad, grid_size)\n",
    "        # begin with start symbol 0\n",
    "        target_pad_indexed = [0] + target_pad_indexed\n",
    "        target_pad_encoded = keras.utils.to_categorical(\n",
    "                                                target_pad_indexed,\n",
    "                                                num_classes=num_classes)\n",
    "        # add to dataset\n",
    "        src_data.append(src_encoded)\n",
    "        target_pad_data.append(target_pad_encoded)\n",
    "        target_data.append(target_encoded)\n",
    "    return src_data, target_pad_data, target_data"
   ]
  },
  {
   "cell_type": "code",
   "execution_count": 33,
   "metadata": {},
   "outputs": [
    {
     "name": "stdout",
     "output_type": "stream",
     "text": [
      "(10, 30001)\n"
     ]
    }
   ],
   "source": [
    "src, target_pad, target = generate_dataset(grid_size=100,\n",
    "                                           seq_len=10,\n",
    "                                           n_samples=1)\n",
    "print(src[0].shape)"
   ]
  }
 ],
 "metadata": {
  "celltoolbar": "Raw Cell Format",
  "kernelspec": {
   "display_name": "Python 3",
   "language": "python",
   "name": "python3"
  },
  "language_info": {
   "codemirror_mode": {
    "name": "ipython",
    "version": 3
   },
   "file_extension": ".py",
   "mimetype": "text/x-python",
   "name": "python",
   "nbconvert_exporter": "python",
   "pygments_lexer": "ipython3",
   "version": "3.6.5"
  }
 },
 "nbformat": 4,
 "nbformat_minor": 2
}
