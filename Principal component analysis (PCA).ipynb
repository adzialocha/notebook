{
 "cells": [
  {
   "cell_type": "code",
   "execution_count": 86,
   "metadata": {},
   "outputs": [],
   "source": [
    "import os\n",
    "import librosa\n",
    "import numpy as np\n",
    "import matplotlib.pyplot as plt\n",
    "from sklearn.decomposition import PCA\n",
    "from sklearn.preprocessing import MinMaxScaler"
   ]
  },
  {
   "cell_type": "code",
   "execution_count": 87,
   "metadata": {},
   "outputs": [],
   "source": [
    "audio_directory = './files/wav/'\n",
    "audio_sample_rate = 44100\n",
    "mfcc_size = 13\n",
    "mels_num = 128"
   ]
  },
  {
   "cell_type": "code",
   "execution_count": 88,
   "metadata": {},
   "outputs": [],
   "source": [
    "def get_pcm_data(directory, sample_rate, max_duration):\n",
    "    # load audio data from .wav files\n",
    "    audio_data = []\n",
    "    for file in os.listdir(directory):\n",
    "        if file.endswith('.wav'):\n",
    "            file_path = os.path.join(directory, file)\n",
    "            pcm, _ = librosa.load(file_path,\n",
    "                                       sr=sample_rate)\n",
    "            trimmed_data, _ = librosa.effects.trim(y=pcm)\n",
    "            audio_data.append(trimmed_data)\n",
    "    return audio_data"
   ]
  },
  {
   "cell_type": "code",
   "execution_count": 89,
   "metadata": {},
   "outputs": [],
   "source": [
    "def get_mfcc_features(pcm_data, sample_rate, n_mels, n_mfcc):\n",
    "    # calculate MFCCs (Mel-Frequency Cepstral Coefficients)\n",
    "    mel_spectrum = librosa.feature.melspectrogram(pcm_data,\n",
    "                                                 sr=sample_rate,\n",
    "                                                 n_mels=n_mels)\n",
    "    log_spectrum = librosa.amplitude_to_db(mel_spectrum,\n",
    "                                           ref=np.max)\n",
    "    mfcc = librosa.feature.mfcc(S=log_spectrum,\n",
    "                                sr=sample_rate,\n",
    "                                n_mfcc=n_mfcc)\n",
    "    # standardize feature for equal variance\n",
    "    delta_mfcc = librosa.feature.delta(mfcc)\n",
    "    delta2_mfcc = librosa.feature.delta(mfcc, order=2)\n",
    "    feature_vector = np.concatenate((\n",
    "        np.mean(mfcc, 1),\n",
    "        np.mean(delta_mfcc, 1),\n",
    "        np.mean(delta2_mfcc, 1)))\n",
    "    feature_vector = (\n",
    "        feature_vector - np.mean(feature_vector)\n",
    "    ) / np.std(feature_vector)\n",
    "    return feature_vector"
   ]
  },
  {
   "cell_type": "code",
   "execution_count": 90,
   "metadata": {},
   "outputs": [],
   "source": [
    "def get_pca(features):\n",
    "    pca = PCA(n_components=2)\n",
    "    transformed = pca.fit_transform(features)\n",
    "    scaler = MinMaxScaler()\n",
    "    scaler.fit(transformed)\n",
    "    return scaler.transform(transformed)"
   ]
  },
  {
   "cell_type": "code",
   "execution_count": 91,
   "metadata": {},
   "outputs": [
    {
     "name": "stdout",
     "output_type": "stream",
     "text": [
      "Loaded 7 .wav files in ./files/wav/\n",
      "Calculated 7 MFCC feature vectors\n",
      "Calculated PCA\n"
     ]
    }
   ],
   "source": [
    "pcm_data = get_pcm_data(audio_directory,\n",
    "                        audio_sample_rate,\n",
    "                        audio_duration)\n",
    "print(\"Loaded %d .wav files in %s\" % (len(pcm_data), audio_directory))\n",
    "feature_vectors = []\n",
    "for data in pcm_data:\n",
    "    mfcc_features = get_mfcc_features(data,\n",
    "                                      audio_sample_rate,\n",
    "                                      mels_num,\n",
    "                                      mfcc_size)\n",
    "    feature_vectors.append(mfcc_features)\n",
    "print(\"Calculated %d MFCC feature vectors\" % len(feature_vectors))\n",
    "pca = get_pca(feature_vectors)\n",
    "print(\"Calculated PCA\")"
   ]
  },
  {
   "cell_type": "code",
   "execution_count": 92,
   "metadata": {},
   "outputs": [
    {
     "data": {
      "image/png": "[encoded data removed]",
      "text/plain": [
       "<Figure size 720x720 with 1 Axes>"
      ]
     },
     "metadata": {},
     "output_type": "display_data"
    }
   ],
   "source": [
    "plt.figure(figsize=(10, 10))\n",
    "plt.scatter(pca.T[0], pca.T[1])\n",
    "plt.show()"
   ]
  },
  {
   "cell_type": "code",
   "execution_count": null,
   "metadata": {},
   "outputs": [],
   "source": []
  }
 ],
 "metadata": {
  "kernelspec": {
   "display_name": "Python 3",
   "language": "python",
   "name": "python3"
  },
  "language_info": {
   "codemirror_mode": {
    "name": "ipython",
    "version": 3
   },
   "file_extension": ".py",
   "mimetype": "text/x-python",
   "name": "python",
   "nbconvert_exporter": "python",
   "pygments_lexer": "ipython3",
   "version": "3.6.5"
  }
 },
 "nbformat": 4,
 "nbformat_minor": 2
}
