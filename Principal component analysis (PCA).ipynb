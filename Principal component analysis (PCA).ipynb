{
 "cells": [
  {
   "cell_type": "code",
   "execution_count": 37,
   "metadata": {},
   "outputs": [],
   "source": [
    "import os\n",
    "import librosa\n",
    "import numpy as np\n",
    "import matplotlib.pyplot as plt\n",
    "from sklearn.decomposition import PCA\n",
    "from sklearn.preprocessing import MinMaxScaler\n",
    "import IPython.display as ipd"
   ]
  },
  {
   "cell_type": "code",
   "execution_count": 38,
   "metadata": {},
   "outputs": [],
   "source": [
    "audio_directory = './files/wav/'\n",
    "audio_sample_rate = 16000\n",
    "mfcc_size = 13\n",
    "mels_num = 128\n",
    "pca_components = 2\n",
    "extra_audio_file = 'test-sample-7.wav'"
   ]
  },
  {
   "cell_type": "code",
   "execution_count": 39,
   "metadata": {},
   "outputs": [],
   "source": [
    "def get_pcm_data(file_path, sample_rate):\n",
    "    pcm, _ = librosa.load(file_path,\n",
    "                          sr=sample_rate)\n",
    "    trimmed_data, _ = librosa.effects.trim(y=pcm)\n",
    "    return trimmed_data"
   ]
  },
  {
   "cell_type": "code",
   "execution_count": 40,
   "metadata": {},
   "outputs": [],
   "source": [
    "def get_all_pcm_data(directory, sample_rate, exclude):\n",
    "    # load audio data from .wav files\n",
    "    audio_data = []\n",
    "    file_names = []\n",
    "    for file in os.listdir(directory):\n",
    "        if file.endswith('.wav') and file != exclude:\n",
    "            file_path = os.path.join(directory, file)\n",
    "            file_names.append(file)\n",
    "            data = get_pcm_data(file_path, sample_rate)\n",
    "            audio_data.append(data)\n",
    "    return audio_data, file_names"
   ]
  },
  {
   "cell_type": "code",
   "execution_count": 41,
   "metadata": {},
   "outputs": [],
   "source": [
    "def get_mfcc_features(pcm_data, sample_rate, n_mels, n_mfcc):\n",
    "    # calculate MFCCs (Mel-Frequency Cepstral Coefficients)\n",
    "    mel_spectrum = librosa.feature.melspectrogram(pcm_data,\n",
    "                                                 sr=sample_rate,\n",
    "                                                 n_mels=n_mels)\n",
    "    log_spectrum = librosa.amplitude_to_db(mel_spectrum,\n",
    "                                           ref=np.max)\n",
    "    mfcc = librosa.feature.mfcc(S=log_spectrum,\n",
    "                                sr=sample_rate,\n",
    "                                n_mfcc=n_mfcc)\n",
    "    # standardize feature for equal variance\n",
    "    delta_mfcc = librosa.feature.delta(mfcc)\n",
    "    delta2_mfcc = librosa.feature.delta(mfcc, order=2)\n",
    "    feature_vector = np.concatenate((\n",
    "        np.mean(mfcc, 1),\n",
    "        np.mean(delta_mfcc, 1),\n",
    "        np.mean(delta2_mfcc, 1)))\n",
    "    feature_vector = (\n",
    "        feature_vector - np.mean(feature_vector)\n",
    "    ) / np.std(feature_vector)\n",
    "    return feature_vector"
   ]
  },
  {
   "cell_type": "code",
   "execution_count": 42,
   "metadata": {},
   "outputs": [],
   "source": [
    "def get_pca(features, components):\n",
    "    pca = PCA(n_components=components)\n",
    "    transformed = pca.fit(features).transform(features)\n",
    "    variance = np.cumsum(np.round(pca.explained_variance_ratio_, decimals=3) * 100)\n",
    "    scaler = MinMaxScaler()\n",
    "    scaler.fit(transformed)\n",
    "    return scaler.transform(transformed), variance, pca, scaler"
   ]
  },
  {
   "cell_type": "code",
   "execution_count": 43,
   "metadata": {},
   "outputs": [],
   "source": [
    "def project_vector(features, pca, scaler):\n",
    "    projected = pca.transform([features])\n",
    "    return scaler.transform(projected)"
   ]
  },
  {
   "cell_type": "code",
   "execution_count": 44,
   "metadata": {},
   "outputs": [
    {
     "name": "stderr",
     "output_type": "stream",
     "text": [
      "Exception ignored in: <bound method Wave_write.__del__ of <wave.Wave_write object at 0x1158eb4a8>>\n",
      "Traceback (most recent call last):\n",
      "  File \"/Users/adz/.pyenv/versions/3.6.5/lib/python3.6/wave.py\", line 316, in __del__\n",
      "    self.close()\n",
      "  File \"/Users/adz/.pyenv/versions/3.6.5/lib/python3.6/wave.py\", line 434, in close\n",
      "    self._ensure_header_written(0)\n",
      "  File \"/Users/adz/.pyenv/versions/3.6.5/lib/python3.6/wave.py\", line 454, in _ensure_header_written\n",
      "    raise Error('sample width not specified')\n",
      "wave.Error: sample width not specified\n"
     ]
    },
    {
     "name": "stdout",
     "output_type": "stream",
     "text": [
      "Loaded 7 .wav files in ./files/wav/\n",
      "Calculated 7 MFCC feature vectors\n",
      "Calculated PCA with shape: (7, 2)\n",
      "PCA Variance: [62.9 88.2]\n",
      "Transformed extra point: [0.38712006 0.5422404 ]\n"
     ]
    }
   ],
   "source": [
    "# Generate PCA on all audio files\n",
    "pcm_data, file_names = get_all_pcm_data(audio_directory,\n",
    "                                        audio_sample_rate,\n",
    "                                        extra_audio_file)\n",
    "print(\"Loaded %d .wav files in %s\" % (len(pcm_data), audio_directory))\n",
    "feature_vectors = []\n",
    "for data in pcm_data:\n",
    "    mfcc_features = get_mfcc_features(data,\n",
    "                                      audio_sample_rate,\n",
    "                                      mels_num,\n",
    "                                      mfcc_size)\n",
    "    feature_vectors.append(mfcc_features)\n",
    "print(\"Calculated %d MFCC feature vectors\" % len(feature_vectors))\n",
    "pca, pca_variance, pca_instance, pca_scaler = get_pca(feature_vectors, pca_components)\n",
    "print(\"Calculated PCA with shape:\", pca.shape)\n",
    "print(\"PCA Variance:\", pca_variance)\n",
    "# Project new extra vector into generated PCA space\n",
    "extra_file_path = os.path.join(audio_directory, extra_audio_file)\n",
    "extra_pcm_data = get_pcm_data(extra_file_path, audio_sample_rate)\n",
    "extra_features = get_mfcc_features(extra_pcm_data,\n",
    "                                   audio_sample_rate,\n",
    "                                   mels_num,\n",
    "                                   mfcc_size)\n",
    "projected_point = project_vector(extra_features,\n",
    "                                 pca_instance,\n",
    "                                 pca_scaler)[0]\n",
    "print(\"Transformed extra point:\", projected_point)"
   ]
  },
  {
   "cell_type": "code",
   "execution_count": 33,
   "metadata": {},
   "outputs": [
    {
     "data": {
      "image/png": "[encoded data removed]",
      "text/plain": [
       "<Figure size 720x720 with 1 Axes>"
      ]
     },
     "metadata": {},
     "output_type": "display_data"
    }
   ],
   "source": [
    "plt.figure(figsize=(10, 10))\n",
    "plt.scatter(pca.T[0], pca.T[1], color='blue')\n",
    "plt.scatter(projected_point.T[0], projected_point.T[1], color='red')\n",
    "for i, label in enumerate(file_names):\n",
    "    plt.annotate(label, (pca.T[0][i], pca.T[1][i]))\n",
    "plt.annotate(extra_audio_file, (projected_point.T[0], projected_point.T[1]))\n",
    "plt.show()"
   ]
  },
  {
   "cell_type": "code",
   "execution_count": null,
   "metadata": {},
   "outputs": [],
   "source": []
  }
 ],
 "metadata": {
  "kernelspec": {
   "display_name": "Python 3",
   "language": "python",
   "name": "python3"
  },
  "language_info": {
   "codemirror_mode": {
    "name": "ipython",
    "version": 3
   },
   "file_extension": ".py",
   "mimetype": "text/x-python",
   "name": "python",
   "nbconvert_exporter": "python",
   "pygments_lexer": "ipython3",
   "version": "3.6.5"
  }
 },
 "nbformat": 4,
 "nbformat_minor": 2
}
