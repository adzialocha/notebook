{
 "cells": [
  {
   "cell_type": "code",
   "execution_count": 1,
   "metadata": {},
   "outputs": [],
   "source": [
    "import math\n",
    "import os\n",
    "\n",
    "import librosa.display\n",
    "import matplotlib.pyplot as plt\n",
    "import pretty_midi as midi"
   ]
  },
  {
   "cell_type": "code",
   "execution_count": 2,
   "metadata": {},
   "outputs": [],
   "source": [
    "# Input and output paths\n",
    "PATH_IN = './files/midi/symphony.mid'\n",
    "PATH_TARGET_FOLDER = './files/midi/'\n",
    "\n",
    "# Separation options\n",
    "SPLIT_EVERY_SEC = 10"
   ]
  },
  {
   "cell_type": "code",
   "execution_count": 3,
   "metadata": {},
   "outputs": [
    {
     "name": "stdout",
     "output_type": "stream",
     "text": [
      "Loaded \"./files/midi/symphony.mid\".\n"
     ]
    }
   ],
   "source": [
    "# Read MIDi file and clean up\n",
    "score = midi.PrettyMIDI(PATH_IN)\n",
    "score.remove_invalid_notes()\n",
    "print('Loaded \"{}\".'.format(PATH_IN))"
   ]
  },
  {
   "cell_type": "code",
   "execution_count": 4,
   "metadata": {},
   "outputs": [],
   "source": [
    "def find_elements_in_range(elements, start_time, end_time):\n",
    "    \"\"\"Filters elements which are within a time range.\"\"\"\n",
    "    \n",
    "    filtered_elements = []\n",
    "    \n",
    "    for item in elements:\n",
    "        if hasattr(item, 'start') and hasattr(item, 'end'):\n",
    "            start = item.start\n",
    "            end = item.end\n",
    "        elif hasattr(item, 'time'):\n",
    "            start = item.time\n",
    "            end = item.time\n",
    "            \n",
    "        if not (end <= start_time or start >= end_time):\n",
    "            if hasattr(item, 'start') and hasattr(item, 'end'):\n",
    "                item.start = item.start - start_time\n",
    "                item.end = item.end - start_time\n",
    "            elif hasattr(item, 'time'):\n",
    "                item.time = item.time - start_time\n",
    "            \n",
    "            filtered_elements.append(item)\n",
    "            \n",
    "    return filtered_elements\n",
    "\n",
    "\n",
    "def split_score(score, split_every_sec=SPLIT_EVERY_SEC):\n",
    "    \"\"\"Break the MIDI file into smaller parts.\"\"\"\n",
    "    \n",
    "    end_time = score.get_end_time()\n",
    "    \n",
    "    # Get instruments\n",
    "    instruments = score.instruments\n",
    "    \n",
    "    # Get all time signature changes\n",
    "    time_signature_changes = score.time_signature_changes\n",
    "    \n",
    "    # Get all key changes\n",
    "    key_changes = score.key_signature_changes\n",
    "    \n",
    "    print('Score with {} instruments, '\n",
    "          '{} signature changes, {} key changes and duration of {} sec.'.format(\n",
    "              len(instruments),\n",
    "              len(time_signature_changes),\n",
    "              len(key_changes),\n",
    "              end_time))\n",
    "    \n",
    "    last_time_signature_change = time_signature_changes[0]\n",
    "    last_key_change = key_changes[0]\n",
    "    \n",
    "    splits = []\n",
    "    \n",
    "    # Split score into smaller time spans\n",
    "    for split_index, split_start_time in enumerate(range(0,\n",
    "                                                         math.ceil(end_time),\n",
    "                                                         split_every_sec)):\n",
    "        split_end_time = min(split_start_time + split_every_sec, end_time)\n",
    "        \n",
    "        split_instruments = []\n",
    "        split_notes_counter = 0\n",
    "\n",
    "        print('Generate split #{} from {} sec - {} sec.'.format(\n",
    "            split_index + 1, split_start_time, split_end_time))\n",
    "        \n",
    "        for instrument in instruments:\n",
    "            # Find notes for this instrument in this range\n",
    "            split_notes = find_elements_in_range(instrument.notes,\n",
    "                                                 split_start_time,\n",
    "                                                 split_end_time)\n",
    "            \n",
    "            split_notes_counter += len(split_notes)\n",
    "            \n",
    "            # Create new instrument\n",
    "            split_instrument = midi.Instrument(program=instrument.program,\n",
    "                                               name=instrument.name)\n",
    "            \n",
    "            split_instrument.notes = split_notes\n",
    "            split_instruments.append(split_instrument)\n",
    "            \n",
    "        # Find key and time signature changes\n",
    "        split_time_signature_changes = find_elements_in_range(time_signature_changes,\n",
    "                                                              split_start_time,\n",
    "                                                              split_end_time)\n",
    "\n",
    "        if len(split_time_signature_changes) > 0:\n",
    "            last_time_signature_change = split_time_signature_changes[-1]\n",
    "        else:\n",
    "            split_time_signature_changes = [last_time_signature_change]\n",
    "\n",
    "        split_key_signature_changes = find_elements_in_range(key_changes,\n",
    "                                                             split_start_time,\n",
    "                                                             split_end_time)\n",
    "\n",
    "        if len(split_key_signature_changes) > 0:\n",
    "            last_key_change = split_key_signature_changes[-1]\n",
    "        else:\n",
    "            split_key_signature_changes = [last_key_change]\n",
    "            \n",
    "        print('Found {} notes, added {} key changes and {} time signature changes.'.format(\n",
    "            split_notes_counter,\n",
    "            len(split_key_signature_changes),\n",
    "            len(split_time_signature_changes)))\n",
    "        \n",
    "        splits.append({'instruments': split_instruments,\n",
    "                       'time_signature_changes': split_time_signature_changes,\n",
    "                       'key_signature_changes': split_key_signature_changes})\n",
    "        \n",
    "    return splits"
   ]
  },
  {
   "cell_type": "code",
   "execution_count": 5,
   "metadata": {},
   "outputs": [
    {
     "name": "stdout",
     "output_type": "stream",
     "text": [
      "Score with 12 instruments, 1 signature changes, 1 key changes and duration of 41.6208375 sec.\n",
      "Generate split #1 from 0 sec - 10 sec.\n",
      "Found 118 notes, added 1 key changes and 1 time signature changes.\n",
      "Generate split #2 from 10 sec - 20 sec.\n",
      "Found 204 notes, added 1 key changes and 1 time signature changes.\n",
      "Generate split #3 from 20 sec - 30 sec.\n",
      "Found 219 notes, added 1 key changes and 1 time signature changes.\n",
      "Generate split #4 from 30 sec - 40 sec.\n",
      "Found 244 notes, added 1 key changes and 1 time signature changes.\n",
      "Generate split #5 from 40 sec - 41.6208375 sec.\n",
      "Found 14 notes, added 1 key changes and 1 time signature changes.\n"
     ]
    }
   ],
   "source": [
    "# Split score!\n",
    "splits = split_score(score)"
   ]
  },
  {
   "cell_type": "code",
   "execution_count": 6,
   "metadata": {},
   "outputs": [],
   "source": [
    "def generate_piano_roll(score, title, path=None, start_pitch=0, end_pitch=127, fs=100):\n",
    "    \"\"\"Save a piano roll image.\"\"\"\n",
    "    \n",
    "    fig = plt.figure()\n",
    "    plt.figure(figsize=(12, 8))\n",
    "    plt.title(title)\n",
    "    \n",
    "    librosa.display.specshow(score.get_piano_roll(fs)[start_pitch:end_pitch],\n",
    "                             hop_length=1, sr=fs, x_axis='time', y_axis='cqt_note',\n",
    "                             fmin=midi.note_number_to_hz(start_pitch))\n",
    "    \n",
    "    if path is not None:\n",
    "        plt.savefig(path)\n",
    "        \n",
    "    plt.close(fig)\n",
    "\n",
    "\n",
    "def generate_midi_files(base_name, target_folder, splits):\n",
    "    \"\"\"Saves multiple splitted MIDI files and its piano roll plots in a folder.\"\"\"\n",
    "    \n",
    "    for split_index, split in enumerate(splits):\n",
    "        split_score = midi.PrettyMIDI()\n",
    "        split_score.time_signature_changes = split['time_signature_changes']\n",
    "        split_score.key_signature_changes = split['key_signature_changes']\n",
    "        split_score.instruments = split['instruments']\n",
    "        \n",
    "        # Save MIDI file and piano roll plot\n",
    "        split_file_name = '{}-split-{}.mid'.format(base_name, split_index + 1)\n",
    "        split_file_path = os.path.join(target_folder, split_file_name)\n",
    "        \n",
    "        plot_file_name = '{}-split-{}.png'.format(base_name, split_index + 1)\n",
    "        plot_file_path = os.path.join(target_folder, plot_file_name)\n",
    "        \n",
    "        generate_piano_roll(split_score, split_file_name, plot_file_path)\n",
    "        \n",
    "        split_score.write(split_file_path)\n",
    "        \n",
    "        print('Saved MIDI file and piano roll plot at \"{}\".'.format(\n",
    "            split_file_path))"
   ]
  },
  {
   "cell_type": "code",
   "execution_count": 7,
   "metadata": {},
   "outputs": [
    {
     "name": "stdout",
     "output_type": "stream",
     "text": [
      "Saved MIDI file and piano roll plot at \"./files/midi/symphony-split-1.mid\".\n",
      "Saved MIDI file and piano roll plot at \"./files/midi/symphony-split-2.mid\".\n",
      "Saved MIDI file and piano roll plot at \"./files/midi/symphony-split-3.mid\".\n",
      "Saved MIDI file and piano roll plot at \"./files/midi/symphony-split-4.mid\".\n",
      "Saved MIDI file and piano roll plot at \"./files/midi/symphony-split-5.mid\".\n",
      "Done!\n"
     ]
    },
    {
     "data": {
      "image/png": "[encoded data removed]",
      "text/plain": [
       "<Figure size 864x576 with 1 Axes>"
      ]
     },
     "metadata": {},
     "output_type": "display_data"
    },
    {
     "data": {
      "image/png": "[encoded data removed]",
      "text/plain": [
       "<Figure size 864x576 with 1 Axes>"
      ]
     },
     "metadata": {},
     "output_type": "display_data"
    },
    {
     "data": {
      "image/png": "[encoded data removed]",
      "text/plain": [
       "<Figure size 864x576 with 1 Axes>"
      ]
     },
     "metadata": {},
     "output_type": "display_data"
    },
    {
     "data": {
      "image/png": "[encoded data removed]",
      "text/plain": [
       "<Figure size 864x576 with 1 Axes>"
      ]
     },
     "metadata": {},
     "output_type": "display_data"
    },
    {
     "data": {
      "image/png": "[encoded data removed]",
      "text/plain": [
       "<Figure size 864x576 with 1 Axes>"
      ]
     },
     "metadata": {},
     "output_type": "display_data"
    }
   ],
   "source": [
    "# Generate MIDI files from splits\n",
    "base_name = os.path.splitext(os.path.basename(PATH_IN))[0]\n",
    "generate_midi_files(base_name, PATH_TARGET_FOLDER, splits)\n",
    "\n",
    "print('Done!')"
   ]
  }
 ],
 "metadata": {
  "kernelspec": {
   "display_name": "Python 3",
   "language": "python",
   "name": "python3"
  },
  "language_info": {
   "codemirror_mode": {
    "name": "ipython",
    "version": 3
   },
   "file_extension": ".py",
   "mimetype": "text/x-python",
   "name": "python",
   "nbconvert_exporter": "python",
   "pygments_lexer": "ipython3",
   "version": "3.6.5"
  }
 },
 "nbformat": 4,
 "nbformat_minor": 2
}
