{
 "cells": [
  {
   "cell_type": "code",
   "execution_count": 1,
   "metadata": {},
   "outputs": [
    {
     "name": "stderr",
     "output_type": "stream",
     "text": [
      "Using TensorFlow backend.\n"
     ]
    }
   ],
   "source": [
    "import os\n",
    "import json\n",
    "\n",
    "from matplotlib import pyplot as plt\n",
    "import numpy as np\n",
    "from keras.models import Sequential\n",
    "from keras import layers\n",
    "from keras.optimizers import RMSprop"
   ]
  },
  {
   "cell_type": "code",
   "execution_count": 2,
   "metadata": {},
   "outputs": [
    {
     "name": "stdout",
     "output_type": "stream",
     "text": [
      "[[0.49095 0.29687]\n",
      " [0.32731 0.24863]]\n"
     ]
    }
   ],
   "source": [
    "# Read json sequence data\n",
    "with open('./files/json/sequence.json') as f:\n",
    "    data = np.array(json.load(f))\n",
    "print(data[0])"
   ]
  },
  {
   "cell_type": "code",
   "execution_count": 3,
   "metadata": {},
   "outputs": [],
   "source": [
    "def generator(data, seq_len, min_index, max_index,\n",
    "              shuffle=False, batch_size=32):\n",
    "    i = min_index\n",
    "    while 1:\n",
    "        if shuffle:\n",
    "            rows = np.random.randint(\n",
    "                min_index, max_index, size=batch_size)\n",
    "        else:\n",
    "            if i + batch_size >= max_index:\n",
    "                i = min_index\n",
    "            rows = np.arange(i, min(i + batch_size, max_index))\n",
    "            i += len(rows)\n",
    "        samples = np.zeros((len(rows), seq_len, data.shape[-1]))\n",
    "        targets = np.zeros((len(rows), data.shape[-1]))\n",
    "        for j, row in enumerate(rows):\n",
    "            indices = range(rows[j], rows[j] + seq_len)\n",
    "            samples[j] = data[:, 0, :][indices]\n",
    "            targets[j] = data[:, 1, :][indices][0]\n",
    "        yield samples, targets"
   ]
  },
  {
   "cell_type": "code",
   "execution_count": 4,
   "metadata": {},
   "outputs": [],
   "source": [
    "seq_len = 4                 # Length of sequence to observe\n",
    "batch_size = 64             # How many sequences per batch\n",
    "epochs = 10                 # Epochs to train\n",
    "steps_per_epoch = 10        # Steps per epoch to train\n",
    "split = 0.5                 # Percentage of test + validation split\n",
    "\n",
    "# Split in 3 sets for training, validation and testing\n",
    "test_steps = round((split / 2) * len(data))\n",
    "val_steps = test_steps\n",
    "train_steps = len(data) - test_steps - val_steps\n",
    "\n",
    "train_gen = generator(data,\n",
    "                      seq_len=seq_len,\n",
    "                      min_index=0,\n",
    "                      max_index=train_steps,\n",
    "                      shuffle=True,\n",
    "                      batch_size=batch_size)\n",
    "\n",
    "val_gen = generator(data,\n",
    "                    seq_len=seq_len,\n",
    "                    min_index=train_steps + 1,\n",
    "                    max_index=train_steps + val_steps + 1,\n",
    "                    batch_size=batch_size)\n",
    "\n",
    "test_gen = generator(data,\n",
    "                     seq_len=seq_len,\n",
    "                     min_index=train_steps + val_steps + 2,\n",
    "                     max_index=len(data),\n",
    "                     batch_size=batch_size)"
   ]
  },
  {
   "cell_type": "code",
   "execution_count": 5,
   "metadata": {},
   "outputs": [
    {
     "name": "stdout",
     "output_type": "stream",
     "text": [
      "_________________________________________________________________\n",
      "Layer (type)                 Output Shape              Param #   \n",
      "=================================================================\n",
      "gru_1 (GRU)                  (None, 32)                3360      \n",
      "_________________________________________________________________\n",
      "dense_1 (Dense)              (None, 2)                 66        \n",
      "=================================================================\n",
      "Total params: 3,426\n",
      "Trainable params: 3,426\n",
      "Non-trainable params: 0\n",
      "_________________________________________________________________\n"
     ]
    }
   ],
   "source": [
    "# A very simple RNN model\n",
    "model = Sequential()\n",
    "model.add(layers.GRU(32,\n",
    "                     dropout=0.2,\n",
    "                     recurrent_dropout=0.2,\n",
    "                     input_shape=(None, data.shape[-1])))\n",
    "model.add(layers.Dense(2))\n",
    "model.compile(optimizer=RMSprop(), loss='mae')\n",
    "model.summary()"
   ]
  },
  {
   "cell_type": "code",
   "execution_count": 6,
   "metadata": {},
   "outputs": [
    {
     "name": "stdout",
     "output_type": "stream",
     "text": [
      "Epoch 1/10\n",
      "10/10 [==============================] - 2s 197ms/step - loss: 0.2312 - val_loss: 0.1503\n",
      "Epoch 2/10\n",
      "10/10 [==============================] - 1s 136ms/step - loss: 0.1250 - val_loss: 0.0928\n",
      "Epoch 3/10\n",
      "10/10 [==============================] - 1s 136ms/step - loss: 0.1111 - val_loss: 0.0936\n",
      "Epoch 4/10\n",
      "10/10 [==============================] - 1s 133ms/step - loss: 0.1035 - val_loss: 0.0869\n",
      "Epoch 5/10\n",
      "10/10 [==============================] - 1s 138ms/step - loss: 0.0931 - val_loss: 0.0888\n",
      "Epoch 6/10\n",
      "10/10 [==============================] - 1s 130ms/step - loss: 0.0923 - val_loss: 0.0878\n",
      "Epoch 7/10\n",
      "10/10 [==============================] - 1s 121ms/step - loss: 0.0829 - val_loss: 0.0905\n",
      "Epoch 8/10\n",
      "10/10 [==============================] - 1s 115ms/step - loss: 0.0835 - val_loss: 0.0892\n",
      "Epoch 9/10\n",
      "10/10 [==============================] - 1s 113ms/step - loss: 0.0821 - val_loss: 0.0897\n",
      "Epoch 10/10\n",
      "10/10 [==============================] - 1s 129ms/step - loss: 0.0781 - val_loss: 0.0888\n"
     ]
    }
   ],
   "source": [
    "# Training\n",
    "history = model.fit_generator(train_gen,\n",
    "                              steps_per_epoch=steps_per_epoch,\n",
    "                              epochs=epochs,\n",
    "                              validation_data=val_gen,\n",
    "                              validation_steps=val_steps)"
   ]
  },
  {
   "cell_type": "code",
   "execution_count": 7,
   "metadata": {},
   "outputs": [
    {
     "data": {
      "image/png": "[encoded data removed]",
      "text/plain": [
       "<Figure size 432x288 with 1 Axes>"
      ]
     },
     "metadata": {},
     "output_type": "display_data"
    }
   ],
   "source": [
    "# Plot validation loss and loss\n",
    "loss = history.history['loss']\n",
    "val_loss = history.history['val_loss']\n",
    "epochs = range(1, len(loss) + 1)\n",
    "\n",
    "plt.figure()\n",
    "plt.plot(epochs, loss, 'bo', label='Training loss')\n",
    "plt.plot(epochs, val_loss, 'b', label='Validation loss')\n",
    "plt.title('Training and validation loss')\n",
    "plt.legend()\n",
    "plt.show()"
   ]
  },
  {
   "cell_type": "code",
   "execution_count": 8,
   "metadata": {},
   "outputs": [
    {
     "name": "stdout",
     "output_type": "stream",
     "text": [
      "Score: 91.27%\n"
     ]
    }
   ],
   "source": [
    "# Naive way of calculating a score with test data\n",
    "scores = []\n",
    "for i in range((test_steps // batch_size) + 1):\n",
    "    samples, targets = next(test_gen)\n",
    "    result = model.predict(np.array([samples[i]]))\n",
    "    dist = 1.0 - np.linalg.norm(result[0] - targets[i])\n",
    "    scores.append(dist)\n",
    "score_total = np.average(scores)\n",
    "print('Score: {0:.2f}%'.format(score_total * 100))"
   ]
  },
  {
   "cell_type": "code",
   "execution_count": null,
   "metadata": {},
   "outputs": [],
   "source": []
  }
 ],
 "metadata": {
  "kernelspec": {
   "display_name": "Python 3",
   "language": "python",
   "name": "python3"
  },
  "language_info": {
   "codemirror_mode": {
    "name": "ipython",
    "version": 3
   },
   "file_extension": ".py",
   "mimetype": "text/x-python",
   "name": "python",
   "nbconvert_exporter": "python",
   "pygments_lexer": "ipython3",
   "version": "3.6.5"
  }
 },
 "nbformat": 4,
 "nbformat_minor": 2
}
